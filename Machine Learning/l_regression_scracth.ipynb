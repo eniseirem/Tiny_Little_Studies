{
 "cells": [
  {
   "cell_type": "code",
   "execution_count": 4,
   "metadata": {},
   "outputs": [
    {
     "name": "stdout",
     "output_type": "stream",
     "text": [
      "-4346.264779152365\n",
      "-148.7067227680535\n",
      "-142.9649362310784\n",
      "-141.5453030715737\n",
      "-141.06031965930796\n",
      "-140.87031585891606\n",
      "-140.7902591275381\n",
      "-140.75505002269915\n",
      "-140.73914503180956\n",
      "-140.73183498915876\n",
      "-140.72843666694828\n",
      "-140.72684471255332\n",
      "-140.72609508950472\n",
      "-140.725740860523\n",
      "-140.72557306887177\n",
      "-140.72549345786172\n",
      "-140.72545564250746\n",
      "-140.72543766614328\n",
      "-140.72542911609156\n",
      "-140.72542504794774\n",
      "-140.72542311181698\n",
      "-140.72542219020232\n",
      "-140.7254217514527\n",
      "-140.72542154256135\n",
      "-140.7254214431011\n",
      "-140.72542139574284\n",
      "-140.72542137319252\n",
      "-140.7254213624546\n",
      "-140.7254213573413\n",
      "-140.7254213549065\n"
     ]
    }
   ],
   "source": [
    "import numpy as np\n",
    "import matplotlib.pyplot as plt\n",
    "%matplotlib inline\n",
    "\n",
    "\n",
    "np.random.seed(12)\n",
    "num_observations = 5000\n",
    "\n",
    "x1 = np.random.multivariate_normal([0,0],[[1, 0.75],[0.75,1]], num_observations)\n",
    "x2 = np.random.multivariate_normal([1,4],[[1, 0.75],[0.75,1]], num_observations)\n",
    "\n",
    "simulated_separableish_features = np.vstack((x1,x2)).astype(np.float32)\n",
    "simulated_labels = np.hstack((np.zeros(num_observations),np.ones(num_observations)))\n",
    "\n",
    "#plt.figure(figsize=(12,8))\n",
    "#plt.scatter(simulated_separableish_features[:, 0], simulated_separableish_features[:, 1],\n",
    "#            c = simulated_labels, alpha = 0.4)\n",
    "\n",
    "def sigmoid(scores):\n",
    "    return 1/(1+np.exp(-scores))\n",
    "\n",
    "def log_likelihood(features, target, weights):\n",
    "    scores = np.dot(features,weights)\n",
    "    ll= np.sum(target*scores - np.log(1 + np.exp(scores)))\n",
    "    return ll\n",
    "\n",
    "def gradient_d(weights,target, predictions, learning_rate, features):\n",
    "    outpur_error_signal = target - predictions\n",
    "    gradient= np.dot(features.T, outpur_error_signal)\n",
    "    weights += learning_rate * gradient\n",
    "    return weights\n",
    "\n",
    "def logistic_regression(features, target, num_steps, learning_rate, add_intercept = False):\n",
    "    if add_intercept:\n",
    "        intercept = np.ones((features.shape[0], 1))\n",
    "        features = np.hstack((intercept, features))\n",
    "        \n",
    "    weights = np.zeros(features.shape[1])\n",
    "    \n",
    "    for step in range(num_steps):\n",
    "        scores = np.dot(features, weights)\n",
    "        predictions = sigmoid(scores)\n",
    "\n",
    "        # Update weights with gradient\n",
    "        weights = gradient_d(weights, target, predictions, learning_rate, features)\n",
    "\n",
    "    \n",
    "        \n",
    "        # Print log-likelihood every so often\n",
    "        if step % 10000 == 0:\n",
    "            print (log_likelihood(features, target, weights))\n",
    "        \n",
    "    return weights\n",
    "\n",
    "weights = logistic_regression(features=simulated_separableish_features, target=simulated_labels,\n",
    "                     num_steps = 300000, learning_rate = 5e-5, add_intercept=True)\n",
    "\n"
   ]
  },
  {
   "cell_type": "code",
   "execution_count": 6,
   "metadata": {},
   "outputs": [
    {
     "name": "stdout",
     "output_type": "stream",
     "text": [
      "[-14.09225541  -5.05899648   8.28955762]\n"
     ]
    }
   ],
   "source": ["print (weights)\n"
    "\n"
   ]
  },
  {
   "cell_type": "code",
   "execution_count": null,
   "metadata": {},
   "outputs": [],
   "source": []
  }
 ],
 "metadata": {
  "kernelspec": {
   "display_name": "Python 3",
   "language": "python",
   "name": "python3"
  },
  "language_info": {
   "codemirror_mode": {
    "name": "ipython",
    "version": 3
   },
   "file_extension": ".py",
   "mimetype": "text/x-python",
   "name": "python",
   "nbconvert_exporter": "python",
   "pygments_lexer": "ipython3",
   "version": "3.7.1"
  }
 },
 "nbformat": 4,
 "nbformat_minor": 2
}
