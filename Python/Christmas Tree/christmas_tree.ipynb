{
 "cells": [
  {
   "cell_type": "code",
   "execution_count": 275,
   "metadata": {},
   "outputs": [
    {
     "name": "stdout",
     "output_type": "stream",
     "text": [
      "\u001b[31mMerry Christmas!\u001b[0m\n"
     ]
    }
   ],
   "source": [
    "\n",
    "n=8 \n",
    "dis=1 \n",
    "layers=3\n",
    "space=n+(n/2)+layers\n",
    "\n",
    "print('\\033[31m' + 'Merry Christmas!' + '\\033[0m')  # Red text\n"
   ]
  },
  {
   "cell_type": "code",
   "execution_count": 276,
   "metadata": {},
   "outputs": [
    {
     "name": "stdout",
     "output_type": "stream",
     "text": [
      "\u001b[32m \u001b[32m \u001b[32m \u001b[32m \u001b[32m \u001b[32m \u001b[32m \u001b[32m \u001b[32m \u001b[32m \u001b[32m \u001b[32m \u001b[32m \u001b[32m \u001b[32m \u001b[1;37mX\u001b[0;0m \n",
      "\u001b[32m \u001b[32m \u001b[32m \u001b[32m \u001b[32m \u001b[32m \u001b[32m \u001b[32m \u001b[32m \u001b[32m \u001b[32m \u001b[32m \u001b[32m \u001b[32m \u001b[32m/\u001b[32m.\\ \n",
      "\u001b[32m \u001b[32m \u001b[32m \u001b[32m \u001b[32m \u001b[32m \u001b[32m \u001b[32m \u001b[32m \u001b[32m \u001b[32m \u001b[32m \u001b[32m \u001b[33m@\u001b[0m\u001b[32m.\u001b[32m*\u001b[32m.\u001b[31m&\u001b[0m \n",
      "\u001b[32m \u001b[32m \u001b[32m \u001b[32m \u001b[32m \u001b[32m \u001b[32m \u001b[32m \u001b[32m \u001b[32m \u001b[32m \u001b[32m \u001b[32m/\u001b[32m.\u001b[32m*\u001b[32m.\u001b[33m@\u001b[0m\u001b[32m.\\ \n",
      "\u001b[32m \u001b[32m \u001b[32m \u001b[32m \u001b[32m \u001b[32m \u001b[32m \u001b[32m \u001b[32m \u001b[32m \u001b[32m \u001b[33m@\u001b[0m\u001b[32m.\u001b[32m*\u001b[32m.\u001b[32m*\u001b[32m.\u001b[32m*\u001b[32m.\u001b[31m&\u001b[0m \n",
      "\u001b[32m \u001b[32m \u001b[32m \u001b[32m \u001b[32m \u001b[32m \u001b[32m \u001b[32m \u001b[32m \u001b[32m \u001b[32m/\u001b[32m.\u001b[32m*\u001b[32m.\u001b[31m&\u001b[0m\u001b[32m.\u001b[32m*\u001b[32m.\u001b[33m@\u001b[0m\u001b[32m.\\ \n",
      "\u001b[32m \u001b[32m \u001b[32m \u001b[32m \u001b[32m \u001b[32m \u001b[32m \u001b[32m \u001b[32m \u001b[33m@\u001b[0m\u001b[32m.\u001b[32m*\u001b[32m.\u001b[33m@\u001b[0m\u001b[32m.\u001b[32m*\u001b[32m.\u001b[32m*\u001b[32m.\u001b[32m*\u001b[32m.\u001b[31m&\u001b[0m \n",
      "\u001b[32m \u001b[32m \u001b[32m \u001b[32m \u001b[32m \u001b[32m \u001b[32m \u001b[32m \u001b[32m/\u001b[32m.\u001b[32m*\u001b[32m.\u001b[32m*\u001b[32m.\u001b[32m*\u001b[32m.\u001b[31m&\u001b[0m\u001b[32m.\u001b[32m*\u001b[32m.\u001b[33m@\u001b[0m\u001b[32m.\\ \n",
      "\u001b[32m \u001b[32m \u001b[32m \u001b[32m \u001b[32m \u001b[32m \u001b[32m \u001b[32m \u001b[32m \u001b[32m \u001b[32m \u001b[33m@\u001b[0m\u001b[32m.\u001b[32m*\u001b[32m.\u001b[31m&\u001b[0m\u001b[32m.\u001b[32m*\u001b[32m.\u001b[33m@\u001b[0m \n",
      "\u001b[32m \u001b[32m \u001b[32m \u001b[32m \u001b[32m \u001b[32m \u001b[32m \u001b[32m \u001b[32m \u001b[32m \u001b[32m/\u001b[32m.\u001b[32m*\u001b[32m.\u001b[33m@\u001b[0m\u001b[32m.\u001b[32m*\u001b[32m.\u001b[32m*\u001b[32m.\\ \n",
      "\u001b[32m \u001b[32m \u001b[32m \u001b[32m \u001b[32m \u001b[32m \u001b[32m \u001b[32m \u001b[32m \u001b[33m@\u001b[0m\u001b[32m.\u001b[32m*\u001b[32m.\u001b[32m*\u001b[32m.\u001b[32m*\u001b[32m.\u001b[31m&\u001b[0m\u001b[32m.\u001b[32m*\u001b[32m.\u001b[33m@\u001b[0m \n",
      "\u001b[32m \u001b[32m \u001b[32m \u001b[32m \u001b[32m \u001b[32m \u001b[32m \u001b[32m \u001b[32m/\u001b[32m.\u001b[32m*\u001b[32m.\u001b[31m&\u001b[0m\u001b[32m.\u001b[32m*\u001b[32m.\u001b[33m@\u001b[0m\u001b[32m.\u001b[32m*\u001b[32m.\u001b[32m*\u001b[32m.\\ \n",
      "\u001b[32m \u001b[32m \u001b[32m \u001b[32m \u001b[32m \u001b[32m \u001b[32m \u001b[33m@\u001b[0m\u001b[32m.\u001b[32m*\u001b[32m.\u001b[33m@\u001b[0m\u001b[32m.\u001b[32m*\u001b[32m.\u001b[32m*\u001b[32m.\u001b[32m*\u001b[32m.\u001b[31m&\u001b[0m\u001b[32m.\u001b[32m*\u001b[32m.\u001b[33m@\u001b[0m \n",
      "\u001b[32m \u001b[32m \u001b[32m \u001b[32m \u001b[32m \u001b[32m \u001b[32m/\u001b[32m.\u001b[32m*\u001b[32m.\u001b[32m*\u001b[32m.\u001b[32m*\u001b[32m.\u001b[31m&\u001b[0m\u001b[32m.\u001b[32m*\u001b[32m.\u001b[33m@\u001b[0m\u001b[32m.\u001b[32m*\u001b[32m.\u001b[32m*\u001b[32m.\\ \n",
      "\u001b[32m \u001b[32m \u001b[32m \u001b[32m \u001b[32m \u001b[33m@\u001b[0m\u001b[32m.\u001b[32m*\u001b[32m.\u001b[31m&\u001b[0m\u001b[32m.\u001b[32m*\u001b[32m.\u001b[33m@\u001b[0m\u001b[32m.\u001b[32m*\u001b[32m.\u001b[32m*\u001b[32m.\u001b[32m*\u001b[32m.\u001b[31m&\u001b[0m\u001b[32m.\u001b[32m*\u001b[32m.\u001b[33m@\u001b[0m \n",
      "\u001b[32m \u001b[32m \u001b[32m \u001b[32m \u001b[32m/\u001b[32m.\u001b[32m*\u001b[32m.\u001b[33m@\u001b[0m\u001b[32m.\u001b[32m*\u001b[32m.\u001b[32m*\u001b[32m.\u001b[32m*\u001b[32m.\u001b[31m&\u001b[0m\u001b[32m.\u001b[32m*\u001b[32m.\u001b[33m@\u001b[0m\u001b[32m.\u001b[32m*\u001b[32m.\u001b[32m*\u001b[32m.\\ \n",
      "\u001b[32m \u001b[32m \u001b[32m \u001b[32m \u001b[32m \u001b[32m \u001b[32m \u001b[33m@\u001b[0m\u001b[32m.\u001b[32m*\u001b[32m.\u001b[32m*\u001b[32m.\u001b[32m*\u001b[32m.\u001b[31m&\u001b[0m\u001b[32m.\u001b[32m*\u001b[32m.\u001b[33m@\u001b[0m\u001b[32m.\u001b[32m*\u001b[32m.\u001b[32m* \n",
      "\u001b[32m \u001b[32m \u001b[32m \u001b[32m \u001b[32m \u001b[32m \u001b[32m/\u001b[32m.\u001b[32m*\u001b[32m.\u001b[31m&\u001b[0m\u001b[32m.\u001b[32m*\u001b[32m.\u001b[33m@\u001b[0m\u001b[32m.\u001b[32m*\u001b[32m.\u001b[32m*\u001b[32m.\u001b[32m*\u001b[32m.\u001b[31m&\u001b[0m\u001b[32m.\\ \n",
      "\u001b[32m \u001b[32m \u001b[32m \u001b[32m \u001b[32m \u001b[33m@\u001b[0m\u001b[32m.\u001b[32m*\u001b[32m.\u001b[33m@\u001b[0m\u001b[32m.\u001b[32m*\u001b[32m.\u001b[32m*\u001b[32m.\u001b[32m*\u001b[32m.\u001b[31m&\u001b[0m\u001b[32m.\u001b[32m*\u001b[32m.\u001b[33m@\u001b[0m\u001b[32m.\u001b[32m*\u001b[32m.\u001b[32m* \n",
      "\u001b[32m \u001b[32m \u001b[32m \u001b[32m \u001b[32m/\u001b[32m.\u001b[32m*\u001b[32m.\u001b[32m*\u001b[32m.\u001b[32m*\u001b[32m.\u001b[31m&\u001b[0m\u001b[32m.\u001b[32m*\u001b[32m.\u001b[33m@\u001b[0m\u001b[32m.\u001b[32m*\u001b[32m.\u001b[32m*\u001b[32m.\u001b[32m*\u001b[32m.\u001b[31m&\u001b[0m\u001b[32m.\\ \n",
      "\u001b[32m \u001b[32m \u001b[32m \u001b[33m@\u001b[0m\u001b[32m.\u001b[32m*\u001b[32m.\u001b[31m&\u001b[0m\u001b[32m.\u001b[32m*\u001b[32m.\u001b[33m@\u001b[0m\u001b[32m.\u001b[32m*\u001b[32m.\u001b[32m*\u001b[32m.\u001b[32m*\u001b[32m.\u001b[31m&\u001b[0m\u001b[32m.\u001b[32m*\u001b[32m.\u001b[33m@\u001b[0m\u001b[32m.\u001b[32m*\u001b[32m.\u001b[32m* \n",
      "\u001b[32m \u001b[32m \u001b[32m/\u001b[32m.\u001b[32m*\u001b[32m.\u001b[33m@\u001b[0m\u001b[32m.\u001b[32m*\u001b[32m.\u001b[32m*\u001b[32m.\u001b[32m*\u001b[32m.\u001b[31m&\u001b[0m\u001b[32m.\u001b[32m*\u001b[32m.\u001b[33m@\u001b[0m\u001b[32m.\u001b[32m*\u001b[32m.\u001b[32m*\u001b[32m.\u001b[32m*\u001b[32m.\u001b[31m&\u001b[0m\u001b[32m.\\ \n",
      "\u001b[32m \u001b[33m@\u001b[0m\u001b[32m.\u001b[32m*\u001b[32m.\u001b[32m*\u001b[32m.\u001b[32m*\u001b[32m.\u001b[31m&\u001b[0m\u001b[32m.\u001b[32m*\u001b[32m.\u001b[33m@\u001b[0m\u001b[32m.\u001b[32m*\u001b[32m.\u001b[32m*\u001b[32m.\u001b[32m*\u001b[32m.\u001b[31m&\u001b[0m\u001b[32m.\u001b[32m*\u001b[32m.\u001b[33m@\u001b[0m\u001b[32m.\u001b[32m*\u001b[32m.\u001b[32m* \n",
      "\u001b[32m/\u001b[32m.\u001b[32m*\u001b[32m.\u001b[31m&\u001b[0m\u001b[32m.\u001b[32m*\u001b[32m.\u001b[33m@\u001b[0m\u001b[32m.\u001b[32m*\u001b[32m.\u001b[32m*\u001b[32m.\u001b[32m*\u001b[32m.\u001b[31m&\u001b[0m\u001b[32m.\u001b[32m*\u001b[32m.\u001b[33m@\u001b[0m\u001b[32m.\u001b[32m*\u001b[32m.\u001b[32m*\u001b[32m.\u001b[32m*\u001b[32m.\u001b[31m&\u001b[0m\u001b[32m.\\ \n",
      "           \u001b[30m |#|\u001b[30m |#|\n",
      "           \u001b[30m |#|\u001b[30m |#|\n",
      "           \u001b[30m |#|\u001b[30m |#|\n",
      "           \u001b[30m |#|\u001b[30m |#|\n",
      "           \u001b[30m |#|\u001b[30m |#|\n"
     ]
    }
   ],
   "source": [
    "for level in range(0,3):\n",
    "    for i in range(0,n):\n",
    "        for k in range(i,int(space)):\n",
    "            print(\"\\033[32m\"+\" \",end='')\n",
    "            \n",
    "        for j in range(0,(i+dis)):\n",
    "            if(j%2==0) and ((i%2==0) or (i%2==1)):\n",
    "                if(i==0) and (j==0) and (level==0):\n",
    "                    print('\\033[1;37m' + 'X' + '\\033[0;0m',end='')\n",
    "                elif(j==0) and (i%2==1):\n",
    "                    print(\"\\033[32m\"+\"/\",end='')\n",
    "                elif(i%2==1) and (dis%2==0) and (j==(dis+i-1)):\n",
    "                    print(\"\\\\\",end='')\n",
    "                else:\n",
    "                    if j==0 or (j%4==0 and (j+dis)%3==2):\n",
    "                        #asal(i+j+dis)==True or\n",
    "                        print('\\033[33m' + '@' + '\\033[0m', end='')\n",
    "                    elif(j%4==0 and (j+dis)%3==1):\n",
    "                        print('\\033[31m' + '&' + '\\033[0m', end='') \n",
    "                    else:\n",
    "                        print(\"\\033[32m\"+\"*\", end='')\n",
    "            else:\n",
    "                print(\"\\033[32m\" +\".\",end='')\n",
    "        \n",
    "        dis= dis+1\n",
    "        print(\" \")\n",
    "        \n",
    "    space=space-(n/2)\n",
    "    \n",
    "for i in range(0,5):\n",
    "    for k in range(0,(n+layers)):\n",
    "        print(\" \",end='')\n",
    "    for j in range(0,2):\n",
    "        print(\"\\033[30m |#|\",end='')\n",
    "        \n",
    "    print()\n",
    "\n",
    "                \n",
    "        "
   ]
  },
  {
   "cell_type": "code",
   "execution_count": null,
   "metadata": {},
   "outputs": [],
   "source": []
  },
  {
   "cell_type": "code",
   "execution_count": null,
   "metadata": {},
   "outputs": [],
   "source": []
  }
 ],
 "metadata": {
  "kernelspec": {
   "display_name": "Python 3",
   "language": "python",
   "name": "python3"
  },
  "language_info": {
   "codemirror_mode": {
    "name": "ipython",
    "version": 3
   },
   "file_extension": ".py",
   "mimetype": "text/x-python",
   "name": "python",
   "nbconvert_exporter": "python",
   "pygments_lexer": "ipython3",
   "version": "3.7.1"
  }
 },
 "nbformat": 4,
 "nbformat_minor": 2
}
